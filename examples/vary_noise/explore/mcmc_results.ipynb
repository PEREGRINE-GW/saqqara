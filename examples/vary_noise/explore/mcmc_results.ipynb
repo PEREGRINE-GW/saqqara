{
 "cells": [
  {
   "cell_type": "code",
   "execution_count": null,
   "metadata": {},
   "outputs": [],
   "source": [
    "%load_ext autoreload\n",
    "%autoreload 2"
   ]
  },
  {
   "cell_type": "code",
   "execution_count": null,
   "metadata": {},
   "outputs": [],
   "source": [
    "import torch\n",
    "import numpy as np\n",
    "import scipy\n",
    "import pytorch_lightning as pl\n",
    "from tqdm import tqdm\n",
    "\n",
    "import matplotlib.pyplot as plt\n",
    "\n",
    "import os, sys\n",
    "import logging\n",
    "logging.getLogger('matplotlib.font_manager').disabled = True\n",
    "import jax\n",
    "import jax.numpy as jnp\n",
    "from functools import partial\n",
    "import emcee\n",
    "jax.config.update(\"jax_enable_x64\", True)\n",
    "\n",
    "import saqqara\n",
    "import sys\n",
    "sys.path.insert(0, '../inference/')\n",
    "sys.path.insert(0, '../simulator/')\n",
    "from networks import SignalAET\n",
    "from simulator import LISA_AET\n",
    "from dataloader import get_datasets, setup_dataloaders, get_data_npy_dataset, get_resampling_dataloader\n",
    "import numpy as np\n",
    "import torch\n",
    "import matplotlib.pyplot as plt\n",
    "import glob\n",
    "import pickle\n",
    "import swyft\n",
    "import logging\n",
    "log = logging.getLogger(\"pytorch_lightning\")\n",
    "log.propagate = False\n",
    "log.setLevel(logging.ERROR)"
   ]
  },
  {
   "cell_type": "code",
   "execution_count": null,
   "metadata": {},
   "outputs": [],
   "source": [
    "id = \"G7RG\"\n",
    "config = glob.glob(f\"../training_dir/training_config_id={id}.yaml\")[0]\n",
    "ckpt = glob.glob(f\"../training_dir/saqqara-*_id={id}.ckpt\")[0]\n",
    "settings = saqqara.load_settings(config_path=config)\n",
    "sim = LISA_AET(settings)\n",
    "network = SignalAET(settings=settings, sim=sim)\n",
    "network = saqqara.load_state(network=network, ckpt=ckpt)\n",
    "trainer = saqqara.setup_trainer(settings, logger=None)"
   ]
  },
  {
   "cell_type": "code",
   "execution_count": null,
   "metadata": {},
   "outputs": [],
   "source": [
    "mcmc_sim = LISA_AET(settings=saqqara.load_settings(config_path=\"../configs/bounded_mcmc.yaml\"))"
   ]
  },
  {
   "cell_type": "code",
   "execution_count": null,
   "metadata": {},
   "outputs": [],
   "source": [
    "class StatsModel:\n",
    "    def __init__(self, simulator):\n",
    "        self.sim = simulator\n",
    "        self.Hubble_over_h = 3.24e-18\n",
    "        self.Nbins = len(simulator.f_vec)\n",
    "        self.TM_noise = jnp.abs(jnp.array(jnp.vstack([jnp.array(simulator.TM_tdi_matrix)[:, channel, channel] for channel in range(3)]).T / simulator.response_AET))\n",
    "        self.OMS_noise = jnp.abs(jnp.array(jnp.vstack([jnp.array(simulator.OMS_tdi_matrix)[:, channel, channel] for channel in range(3)]).T / simulator.response_AET))\n",
    "        self.f_vec = jnp.array(simulator.f_vec)\n",
    "\n",
    "    def get_sample(self):\n",
    "        return self.sim.sample()\n",
    "    \n",
    "    def get_quad_data(self, sample):\n",
    "        return jnp.abs(sample['full_quadratic_data_AET'] / self.sim.response_AET)\n",
    "    \n",
    "    @partial(jax.jit, static_argnums=(0,))\n",
    "    def sgwb_template(self, z_sgwb):\n",
    "        conversion = 4 * jnp.pi**2 * self.f_vec**3 / 3 / self.sim.Hubble_over_h**2\n",
    "        return jnp.abs(jnp.array(\n",
    "            self.sim.overall_rescaling\n",
    "            * 10 ** z_sgwb[0]\n",
    "            * (self.f_vec / jnp.sqrt(self.f_vec [0] * self.f_vec [-1])) ** z_sgwb[1]\n",
    "            / conversion\n",
    "        ))\n",
    "    \n",
    "    @partial(jax.jit, static_argnums=(0,))\n",
    "    def get_variance(self, z):\n",
    "        z_sgwb, z_noise = z[:2], z[-2:]\n",
    "        return z_noise[0]**2 * self.TM_noise + z_noise[1]**2 * self.OMS_noise + self.sgwb_template(z_sgwb)[:, None]\n",
    "    \n",
    "    @partial(jax.jit, static_argnums=(0,))\n",
    "    def logL(self, z, quadratic_data_over_response, N_segments=1, channels=[0, 1, 2]):\n",
    "        variance = self.get_variance(z)\n",
    "        logL_array = -(jnp.log(variance[:, channels]) + quadratic_data_over_response[:, channels] / (variance[:, channels]))\n",
    "        return N_segments * jnp.sum(logL_array)\n",
    "\n",
    "    def log_prior(self, z):\n",
    "        if not np.all(np.logical_and(z > self.sim.prior.bounds[:, 0], z < self.sim.prior.bounds[:, 1])):\n",
    "            return -jnp.inf\n",
    "        return 0\n",
    "\n",
    "    def log_posterior(self, z, data, N_segments=1, channels=[0, 1, 2]):\n",
    "        if jnp.isinf(self.log_prior(z)):\n",
    "            return -jnp.inf\n",
    "        return self.logL(z, data, N_segments, channels) + self.log_prior(z)\n",
    "\n",
    "def mcmc(stats, data, nwalkers=100, nsteps=1000, Nsegs=1, channels=[0, 1, 2]):\n",
    "    ndim = 4\n",
    "    p0 = stats.sim.prior.sample(nwalkers)\n",
    "    sampler = emcee.EnsembleSampler(nwalkers, ndim, stats.log_posterior, args=[data, Nsegs, channels])\n",
    "    sampler.run_mcmc(p0, nsteps, progress=True)\n",
    "    return sampler"
   ]
  },
  {
   "cell_type": "code",
   "execution_count": null,
   "metadata": {},
   "outputs": [],
   "source": [
    "def get_grid(N=1000, a_low=-11.42961597442627, a_high=-10.696080207824707, g_low=-0.7066106200218201, g_high=1.0477334260940552):\n",
    "    a_samples = np.linspace(a_low, a_high, N)\n",
    "    g_samples = np.linspace(g_low, g_high, N)\n",
    "    ag_samples = np.array(np.meshgrid(a_samples, g_samples)).T.reshape(-1, 2)\n",
    "    A_samples = np.ones(N)\n",
    "    P_samples = np.ones(N)\n",
    "    AP_samples = np.array(np.meshgrid(A_samples, P_samples)).T.reshape(-1, 2)\n",
    "    return swyft.Samples(z=np.float32(np.concatenate((ag_samples, AP_samples), axis=1)))\n",
    "\n",
    "prior_samples = get_grid(N=2000)"
   ]
  },
  {
   "cell_type": "code",
   "execution_count": null,
   "metadata": {},
   "outputs": [],
   "source": [
    "stats = StatsModel(mcmc_sim)"
   ]
  },
  {
   "cell_type": "code",
   "execution_count": null,
   "metadata": {},
   "outputs": [],
   "source": [
    "data_sample = sim.sample(conditions={'z': np.array([-11.0, 0.0, 3.0, 15.0])})\n",
    "mcmc_data = stats.get_quad_data(data_sample)\n",
    "observation = swyft.Sample(data=data_sample[\"full_coarse_grained_data\"])"
   ]
  },
  {
   "cell_type": "code",
   "execution_count": null,
   "metadata": {},
   "outputs": [],
   "source": [
    "stats_sampler = mcmc(stats, mcmc_data, nwalkers=100, nsteps=1000, channels=[0, 1, 2])"
   ]
  },
  {
   "cell_type": "code",
   "execution_count": null,
   "metadata": {},
   "outputs": [],
   "source": [
    "observation = swyft.Sample(data=sim.generate_coarse_grained_data_from_sum(data_sample[\"full_quadratic_data_AET\"]))\n",
    "logratios = trainer.infer(network, observation, prior_samples, batch_size=100000)"
   ]
  },
  {
   "cell_type": "code",
   "execution_count": null,
   "metadata": {},
   "outputs": [],
   "source": [
    "import corner\n",
    "target_z = data_sample['z']\n",
    "post_samples = stats_sampler.get_chain(discard=100, thin=1, flat=True)[:, :2]\n",
    "fig = corner.corner(\n",
    "    post_samples,\n",
    "    normed=True,\n",
    "    truths=target_z[:2], levels=[1-np.exp(-0.5), 1-np.exp(-2), 1 - np.exp(-4.5)]\n",
    ")\n",
    "colors = [\"black\", \"red\", \"green\"]\n",
    "lims = [[-11.12, -10.88], [-0.3, 0.3]]\n",
    "swyft.plot_corner(logratios, color='red', parnames=logratios.parnames[0], bins=1000, cred_level=[1-np.exp(-0.5), 1-np.exp(-2), 1 - np.exp(-4.5)], fig=plt.gcf())\n",
    "for j in range(2):\n",
    "    ax = plt.subplot(2, 2, 2 * j + j + 1)\n",
    "    plt.axvline(data_sample['z'][j], c=\"r\")\n",
    "    plt.hist(stats_sampler.get_chain(discard=100, thin=1, flat=True)[:, j], bins=80, density=True)\n",
    "for i in range(2):\n",
    "    for j in range(i + 1):\n",
    "        ax = plt.subplot(2, 2, 2 * i + j + 1)\n",
    "        if i != j:\n",
    "            ax.set_xlim(lims[j])\n",
    "            ax.set_ylim(lims[i])\n",
    "        elif i == j:\n",
    "            ax.set_xlim(lims[i])"
   ]
  },
  {
   "cell_type": "code",
   "execution_count": null,
   "metadata": {},
   "outputs": [],
   "source": [
    "BASE_DIR = \"../results/mcmc_comparison/\"\n",
    "pickle.dump(data_sample, open(BASE_DIR + \"data_sample.pkl\", \"wb\"))\n",
    "pickle.dump(stats_sampler.get_chain(discard=100, thin=1, flat=True), open(BASE_DIR + \"stats_chain.pkl\", \"wb\"))\n",
    "pickle.dump(logratios, open(BASE_DIR + \"logratios.pkl\", \"wb\"))\n",
    "pickle.dump(sim.coarse_grained_f, open(BASE_DIR + \"cg_f.pkl\", \"wb\"))\n",
    "pickle.dump(sim.response_AET, open(BASE_DIR + \"response.pkl\", \"wb\"))"
   ]
  },
  {
   "cell_type": "code",
   "execution_count": null,
   "metadata": {},
   "outputs": [],
   "source": [
    "logratios = pickle.load(open(BASE_DIR + \"logratios.pkl\", \"rb\"))"
   ]
  },
  {
   "cell_type": "code",
   "execution_count": null,
   "metadata": {},
   "outputs": [],
   "source": [
    "import corner\n",
    "target_z = data_sample['z']\n",
    "post_samples = stats_sampler.get_chain(discard=100, thin=1, flat=True)[:, :2]\n",
    "fig = corner.corner(\n",
    "    post_samples,\n",
    "    normed=True,\n",
    "    truths=target_z[:2], levels=[1-np.exp(-0.5), 1-np.exp(-2), 1 - np.exp(-4.5)]\n",
    ")\n",
    "colors = [\"black\", \"red\", \"green\"]\n",
    "lims = [[-11.12, -10.88], [-0.3, 0.3]]\n",
    "swyft.plot_corner(logratios, color='red', parnames=logratios.parnames[0], bins=1000, cred_level=[1-np.exp(-0.5), 1-np.exp(-2), 1 - np.exp(-4.5)], fig=plt.gcf())\n",
    "for j in range(2):\n",
    "    ax = plt.subplot(2, 2, 2 * j + j + 1)\n",
    "    plt.axvline(data_sample['z'][j], c=\"r\")\n",
    "    plt.hist(stats_sampler.get_chain(discard=100, thin=1, flat=True)[:, j], bins=80, density=True)\n",
    "for i in range(2):\n",
    "    for j in range(i + 1):\n",
    "        ax = plt.subplot(2, 2, 2 * i + j + 1)\n",
    "        if i != j:\n",
    "            ax.set_xlim(lims[j])\n",
    "            ax.set_ylim(lims[i])\n",
    "        elif i == j:\n",
    "            ax.set_xlim(lims[i])"
   ]
  },
  {
   "cell_type": "code",
   "execution_count": null,
   "metadata": {},
   "outputs": [],
   "source": []
  }
 ],
 "metadata": {
  "kernelspec": {
   "display_name": "default",
   "language": "python",
   "name": "python3"
  },
  "language_info": {
   "codemirror_mode": {
    "name": "ipython",
    "version": 3
   },
   "file_extension": ".py",
   "mimetype": "text/x-python",
   "name": "python",
   "nbconvert_exporter": "python",
   "pygments_lexer": "ipython3",
   "version": "3.11.0"
  }
 },
 "nbformat": 4,
 "nbformat_minor": 2
}
